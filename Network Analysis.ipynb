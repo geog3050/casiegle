{
 "cells": [
  {
   "cell_type": "code",
   "execution_count": 1,
   "metadata": {},
   "outputs": [],
   "source": [
    "import arcpy"
   ]
  },
  {
   "cell_type": "code",
   "execution_count": 2,
   "metadata": {},
   "outputs": [],
   "source": [
    "arcpy.env.overwriteOutput = True"
   ]
  },
  {
   "cell_type": "code",
   "execution_count": null,
   "metadata": {},
   "outputs": [],
   "source": [
    "#checks out the extension from the licence to get the network extension to create networks\n",
    "arcpy.CheckOutExtension(\"network\")"
   ]
  },
  {
   "cell_type": "code",
   "execution_count": 3,
   "metadata": {},
   "outputs": [],
   "source": [
    "#makes a folder variable based off the path you give. It needs to have all of the appropriate data in it.\n",
    "folder = r\"C:\\Users\\casiegle/OneDrive - University of Iowa/Desktop/dc_data\""
   ]
  },
  {
   "cell_type": "code",
   "execution_count": 4,
   "metadata": {},
   "outputs": [],
   "source": [
    "#Creates a roads_shp variable using the folder path plus the path to the shape file.\n",
    "roads_shp = folder + \"/roads/roads.shp\""
   ]
  },
  {
   "cell_type": "code",
   "execution_count": 5,
   "metadata": {},
   "outputs": [],
   "source": [
    "#creates a describe object for later use\n",
    "desc = arcpy.Describe(roads_shp)"
   ]
  },
  {
   "cell_type": "code",
   "execution_count": 7,
   "metadata": {},
   "outputs": [
    {
     "name": "stdout",
     "output_type": "stream",
     "text": [
      "GCS_WGS_1984\n"
     ]
    }
   ],
   "source": [
    "#prints the spatial reference name so you can check to see later on if it is the same as your points for the network\n",
    "print(desc.spatialReference.name)"
   ]
  },
  {
   "cell_type": "code",
   "execution_count": 9,
   "metadata": {},
   "outputs": [
    {
     "data": {
      "text/html": [
       "<h2>Output</h2>C:\\Users\\casiegle\\OneDrive - University of Iowa\\Desktop\\DCProject\\DCProject.gdb\\featuredataset<h2>Messages</h2>Start Time: Wednesday, April 20, 2022 1:35:35 PM<br/>Succeeded at Wednesday, April 20, 2022 1:35:38 PM (Elapsed Time: 2.84 seconds)<br/><style>.rendered_html td, .rendered_html th {text-align: left;}.rendered_html tbody {border: 1px solid black;}</style>"
      ],
      "text/plain": [
       "<Result 'C:\\\\Users\\\\casiegle\\\\OneDrive - University of Iowa\\\\Desktop\\\\DCProject\\\\DCProject.gdb\\\\featuredataset'>"
      ]
     },
     "execution_count": 9,
     "metadata": {},
     "output_type": "execute_result"
    }
   ],
   "source": [
    "#creates a feature dataset based off of the spatial reference of the roads shapefile\n",
    "arcpy.CreateFeatureDataset_management(arcpy.env.workspace, \"featuredataset\", desc.spatialReference)"
   ]
  },
  {
   "cell_type": "code",
   "execution_count": 10,
   "metadata": {},
   "outputs": [
    {
     "data": {
      "text/html": [
       "<h2>Output</h2>C:\\Users\\casiegle\\OneDrive - University of Iowa\\Desktop\\DCProject\\DCProject.gdb\\featuredataset\\roads<h2>Messages</h2>Start Time: Wednesday, April 20, 2022 1:35:56 PM<br/>Succeeded at Wednesday, April 20, 2022 1:35:59 PM (Elapsed Time: 3.73 seconds)<br/><style>.rendered_html td, .rendered_html th {text-align: left;}.rendered_html tbody {border: 1px solid black;}</style>"
      ],
      "text/plain": [
       "<Result 'C:\\\\Users\\\\casiegle\\\\OneDrive - University of Iowa\\\\Desktop\\\\DCProject\\\\DCProject.gdb\\\\featuredataset\\\\roads'>"
      ]
     },
     "execution_count": 10,
     "metadata": {},
     "output_type": "execute_result"
    }
   ],
   "source": [
    "#copies features from the roads shapefile into the \"featuredataset\" we just created\n",
    "arcpy.CopyFeatures_management(roads_shp, \"featuredataset/roads\")"
   ]
  },
  {
   "cell_type": "code",
   "execution_count": 13,
   "metadata": {},
   "outputs": [],
   "source": [
    "#Creates a firestations_shp variable using the folder path plus the path to the shape file.\n",
    "firestations_shp = folder + \"/FireStations/Fire_Stations.shp\""
   ]
  },
  {
   "cell_type": "code",
   "execution_count": 14,
   "metadata": {},
   "outputs": [
    {
     "name": "stdout",
     "output_type": "stream",
     "text": [
      "GCS_WGS_1984\n"
     ]
    }
   ],
   "source": [
    "#prints the spatial reference name so you can check to see later on if it is the same as your points for the network\n",
    "#you need to make sure this is the same as the roads.shp file reference name\n",
    "print(arcpy.Describe(firestations_shp).spatialReference.name)"
   ]
  },
  {
   "cell_type": "code",
   "execution_count": 15,
   "metadata": {},
   "outputs": [
    {
     "data": {
      "text/html": [
       "<h2>Output</h2>C:\\Users\\casiegle\\OneDrive - University of Iowa\\Desktop\\DCProject\\DCProject.gdb\\featuredataset\\firestations<h2>Messages</h2>Start Time: Wednesday, April 20, 2022 1:38:43 PM<br/>Succeeded at Wednesday, April 20, 2022 1:38:44 PM (Elapsed Time: 1.23 seconds)<br/><style>.rendered_html td, .rendered_html th {text-align: left;}.rendered_html tbody {border: 1px solid black;}</style>"
      ],
      "text/plain": [
       "<Result 'C:\\\\Users\\\\casiegle\\\\OneDrive - University of Iowa\\\\Desktop\\\\DCProject\\\\DCProject.gdb\\\\featuredataset\\\\firestations'>"
      ]
     },
     "execution_count": 15,
     "metadata": {},
     "output_type": "execute_result"
    }
   ],
   "source": [
    "#copy the features from the firestations shapefile into the featuredataset we created that has the roads as well\n",
    "arcpy.CopyFeatures_management(firestations_shp, \"featuredataset/firestations\")"
   ]
  },
  {
   "cell_type": "code",
   "execution_count": 16,
   "metadata": {},
   "outputs": [
    {
     "data": {
      "text/html": [
       "<h2>Output</h2>C:\\Users\\casiegle\\OneDrive - University of Iowa\\Desktop\\DCProject\\DCProject.gdb\\featuredataset\\roads_ND<h2>Messages</h2>Start Time: Wednesday, April 20, 2022 1:38:55 PM<br/>Succeeded at Wednesday, April 20, 2022 1:38:57 PM (Elapsed Time: 1.87 seconds)<br/><style>.rendered_html td, .rendered_html th {text-align: left;}.rendered_html tbody {border: 1px solid black;}</style>"
      ],
      "text/plain": [
       "<Result 'C:\\\\Users\\\\casiegle\\\\OneDrive - University of Iowa\\\\Desktop\\\\DCProject\\\\DCProject.gdb\\\\featuredataset\\\\roads_ND'>"
      ]
     },
     "execution_count": 16,
     "metadata": {},
     "output_type": "execute_result"
    }
   ],
   "source": [
    "#this creates the actual network dataset with the roads shapefile. it outputs a network dataset\n",
    "arcpy.na.CreateNetworkDataset(\"featuredataset\", \"roads_ND\", [\"roads\"])"
   ]
  },
  {
   "cell_type": "code",
   "execution_count": 17,
   "metadata": {},
   "outputs": [
    {
     "data": {
      "text/html": [
       "<h2>Output</h2>C:\\Users\\casiegle\\OneDrive - University of Iowa\\Desktop\\DCProject\\DCProject.gdb\\featuredataset/roads_ND<h2>Messages</h2>Start Time: Wednesday, April 20, 2022 1:39:06 PM<br/>Succeeded at Wednesday, April 20, 2022 1:39:11 PM (Elapsed Time: 5.00 seconds)<br/><style>.rendered_html td, .rendered_html th {text-align: left;}.rendered_html tbody {border: 1px solid black;}</style>"
      ],
      "text/plain": [
       "<Result 'C:\\\\Users\\\\casiegle\\\\OneDrive - University of Iowa\\\\Desktop\\\\DCProject\\\\DCProject.gdb\\\\featuredataset/roads_ND'>"
      ]
     },
     "execution_count": 17,
     "metadata": {},
     "output_type": "execute_result"
    }
   ],
   "source": [
    "#this builds the network based off of the roads network dataset we just created in the previous cell\n",
    "arcpy.BuildNetwork_na(\"featuredataset/roads_ND\")"
   ]
  },
  {
   "cell_type": "code",
   "execution_count": 25,
   "metadata": {},
   "outputs": [],
   "source": [
    "#this creates the service area analysis layer based off the network dataset, names it myArea,\n",
    "#with 300, 600, and 1500 meter cutoffs with high polygon detail and overlapping, with rings for easier visuals\n",
    "area = arcpy.na.MakeServiceAreaAnalysisLayer(\"featuredataset/roads_ND\", \"myArea\", \"Length\", \"FROM_FACILITIES\",  [300, 600, 1500], polygon_detail=\"HIGH\", geometry_at_overlaps=\"OVERLAP\", geometry_at_cutoffs = \"RINGS\")"
   ]
  },
  {
   "cell_type": "code",
   "execution_count": 26,
   "metadata": {},
   "outputs": [],
   "source": [
    "#this gets the output from the service area\n",
    "areaLayer = area.getOutput(0)"
   ]
  },
  {
   "cell_type": "code",
   "execution_count": 27,
   "metadata": {},
   "outputs": [],
   "source": [
    "#creates the classes from the output\n",
    "na_classes = arcpy.na.GetNAClassNames(areaLayer, \"INPUT\")"
   ]
  },
  {
   "cell_type": "code",
   "execution_count": 28,
   "metadata": {},
   "outputs": [
    {
     "name": "stdout",
     "output_type": "stream",
     "text": [
      "{'Facilities': 'Facilities', 'Barriers': 'Point Barriers', 'PolylineBarriers': 'Line Barriers', 'PolygonBarriers': 'Polygon Barriers'}\n"
     ]
    }
   ],
   "source": [
    "#prints the classes \n",
    "print(na_classes)"
   ]
  },
  {
   "cell_type": "code",
   "execution_count": 29,
   "metadata": {},
   "outputs": [],
   "source": [
    "#creates a sublayer variable as the facilities from the classes\n",
    "sublayer = na_classes[\"Facilities\"]"
   ]
  },
  {
   "cell_type": "code",
   "execution_count": 30,
   "metadata": {},
   "outputs": [
    {
     "data": {
      "text/html": [
       "<h2>Output</h2>a Layer object<h2>Messages</h2>Start Time: Wednesday, April 20, 2022 1:41:44 PM<br/>44 features located out of 44.<br/>Succeeded at Wednesday, April 20, 2022 1:41:45 PM (Elapsed Time: 0.28 seconds)<br/><style>.rendered_html td, .rendered_html th {text-align: left;}.rendered_html tbody {border: 1px solid black;}</style>"
      ],
      "text/plain": [
       "<Result 'myArea'>"
      ]
     },
     "execution_count": 30,
     "metadata": {},
     "output_type": "execute_result"
    }
   ],
   "source": [
    "#this adds the locations to the area layer which are the firestations\n",
    "arcpy.na.AddLocations(areaLayer, sublayer, \"firestations\", \"\", \"\")"
   ]
  },
  {
   "cell_type": "code",
   "execution_count": 31,
   "metadata": {},
   "outputs": [
    {
     "data": {
      "text/html": [
       "<h2>Output</h2><table><tr><th>id</th><th>value</th></tr><tr><td>0</td><td>a Layer object</td></tr><tr><td>1</td><td>true</td></tr></table><h2>Messages</h2>Start Time: Wednesday, April 20, 2022 1:41:48 PM<br/>Succeeded at Wednesday, April 20, 2022 1:41:49 PM (Elapsed Time: 0.70 seconds)<br/><style>.rendered_html td, .rendered_html th {text-align: left;}.rendered_html tbody {border: 1px solid black;}</style>"
      ],
      "text/plain": [
       "<Result 'myArea'>"
      ]
     },
     "execution_count": 31,
     "metadata": {},
     "output_type": "execute_result"
    }
   ],
   "source": [
    "#this actually solves the service area analysis and shows it to you on the map \n",
    "#it outputs a layer you can export different things out of\n",
    "arcpy.na.Solve(areaLayer)"
   ]
  }
 ],
 "metadata": {
  "kernelspec": {
   "display_name": "ArcGISPro",
   "language": "Python",
   "name": "python3"
  },
  "language_info": {
   "file_extension": ".py",
   "name": "python",
   "version": "3"
  }
 },
 "nbformat": 4,
 "nbformat_minor": 2
}
