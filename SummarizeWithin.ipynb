{
 "cells": [
  {
   "cell_type": "code",
   "execution_count": 31,
   "metadata": {},
   "outputs": [],
   "source": [
    "import arcpy\n",
    "import os"
   ]
  },
  {
   "cell_type": "code",
   "execution_count": 38,
   "metadata": {},
   "outputs": [],
   "source": [
    "#Sets workspace for the file with all the data\n",
    "arcpy.env.workspace = \"C:/Users/casiegle/OneDrive - University of Iowa/Desktop/dbFile\""
   ]
  },
  {
   "cell_type": "code",
   "execution_count": 33,
   "metadata": {},
   "outputs": [
    {
     "data": {
      "text/html": [
       "<h2>Output</h2>C:/Users/casiegle/OneDrive - University of Iowa/Desktop/dbFile\\DC.gdb<h2>Messages</h2>Start Time: Friday, April 29, 2022 11:22:58 AM<br/>Succeeded at Friday, April 29, 2022 11:22:58 AM (Elapsed Time: 0.21 seconds)<br/><style>.rendered_html td, .rendered_html th {text-align: left;}.rendered_html tbody {border: 1px solid black;}</style>"
      ],
      "text/plain": [
       "<Result 'C:/Users/casiegle/OneDrive - University of Iowa/Desktop/dbFile\\\\DC.gdb'>"
      ]
     },
     "execution_count": 33,
     "metadata": {},
     "output_type": "execute_result"
    }
   ],
   "source": [
    "#creates an empty geodatabase file in the workspace named DC.gdb\n",
    "arcpy.CreateFileGDB_management(\"C:/Users/casiegle/OneDrive - University of Iowa/Desktop/dbFile\", \"DC.gdb\")"
   ]
  },
  {
   "cell_type": "code",
   "execution_count": 34,
   "metadata": {},
   "outputs": [],
   "source": [
    "#creates a list of feature classes in the folder \n",
    "fc_list = arcpy.ListFeatureClasses()"
   ]
  },
  {
   "cell_type": "code",
   "execution_count": 35,
   "metadata": {},
   "outputs": [
    {
     "name": "stdout",
     "output_type": "stream",
     "text": [
      "Fire_Alarm_Districts.shp\n",
      "Fire_Stations.shp\n",
      "Homeless_Shelter_Locations.shp\n",
      "Hospitals.shp\n",
      "roads.shp\n",
      "Washington_DC_Boundary.shp\n"
     ]
    }
   ],
   "source": [
    "#checks to see and shows what feature classes are in the list \n",
    "for fc in fc_list:\n",
    "    print(fc)"
   ]
  },
  {
   "cell_type": "code",
   "execution_count": 36,
   "metadata": {},
   "outputs": [],
   "source": [
    "#loops through the list fc_list\n",
    "for shapefile in fc_list:\n",
    "    # Determine the new output feature class path and name\n",
    "    out_featureclass = os.path.join(\"C:/Users/casiegle/OneDrive - University of Iowa/Desktop/dbFile/DC.gdb\", \n",
    "                                    os.path.splitext(shapefile)[0])\n",
    "    #copies the feature class at each loop into the geodatabase we created earlier\n",
    "    arcpy.CopyFeatures_management(shapefile, out_featureclass)"
   ]
  },
  {
   "cell_type": "code",
   "execution_count": null,
   "metadata": {},
   "outputs": [],
   "source": [
    "#resets the workspace to the DC.gdb so we can run functions on the data inside of it\n",
    "arcpy.env.workspace = \"C:/Users/casiegle/OneDrive - University of Iowa/Desktop/dbFile/DC.gdb\""
   ]
  },
  {
   "cell_type": "code",
   "execution_count": 39,
   "metadata": {},
   "outputs": [
    {
     "data": {
      "text/html": [
       "<h2>Output</h2><table><tr><th>id</th><th>value</th></tr><tr><td>0</td><td>C:/Users/casiegle/OneDrive - University of Iowa/Desktop/dbFile/DC.gdb\\countOfHospitals</td></tr><tr><td>1</td><td></td></tr></table><h2>Messages</h2>Start Time: Friday, April 29, 2022 11:26:50 AM<br/>Succeeded at Friday, April 29, 2022 11:26:53 AM (Elapsed Time: 2.91 seconds)<br/><style>.rendered_html td, .rendered_html th {text-align: left;}.rendered_html tbody {border: 1px solid black;}</style>"
      ],
      "text/plain": [
       "<Result 'C:/Users/casiegle/OneDrive - University of Iowa/Desktop/dbFile/DC.gdb\\\\countOfHospitals'>"
      ]
     },
     "execution_count": 39,
     "metadata": {},
     "output_type": "execute_result"
    }
   ],
   "source": [
    "#counts the number of hospitals and sums the bed count for each polygon (break for service area) \n",
    "#and creates a table that is able to be exported\n",
    "arcpy.SummarizeWithin_analysis('Polygons', 'Hospitals', 'countOfHospitals','#',['BED_COUNT', 'SUM']))"
   ]
  },
  {
   "cell_type": "code",
   "execution_count": null,
   "metadata": {},
   "outputs": [],
   "source": []
  }
 ],
 "metadata": {
  "kernelspec": {
   "display_name": "ArcGISPro",
   "language": "Python",
   "name": "python3"
  },
  "language_info": {
   "file_extension": ".py",
   "name": "python",
   "version": "3"
  }
 },
 "nbformat": 4,
 "nbformat_minor": 2
}
